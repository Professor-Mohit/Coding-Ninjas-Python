{
 "cells": [
  {
   "cell_type": "markdown",
   "metadata": {},
   "source": [
    "01. Age group categorization \n",
    "    classify a person's age group : Child(<13), Teenager(13-19), Adult(20-59), Senior Citizen(60+)."
   ]
  },
  {
   "cell_type": "code",
   "execution_count": 1,
   "metadata": {},
   "outputs": [
    {
     "name": "stdout",
     "output_type": "stream",
     "text": [
      "Adult\n"
     ]
    }
   ],
   "source": [
    "# Take the user's age as input and store it in the 'age' variable\n",
    "age = int(input())\n",
    "\n",
    "# Check if the age is less than 0 (i.e., invalid)\n",
    "if age < 0:\n",
    "    # If the age is invalid, print an error message\n",
    "    print(\"Your age is not valid\")\n",
    "else:\n",
    "    # If the age is valid, determine the age category\n",
    "    if age <= 13:\n",
    "        # If the age is 13 or less, print \"Child\"\n",
    "        print(\"Child\")\n",
    "    elif age < 20:\n",
    "        # If the age is between 14 and 19, print \"Teenager\"\n",
    "        print(\"Teenager\")\n",
    "    elif age <= 59:\n",
    "        # If the age is between 20 and 59, print \"Adult\"\n",
    "        print(\"Adult\")\n",
    "    else:\n",
    "        # If the age is 60 or more, print \"Senior Citizen\"\n",
    "        print(\"Senior Citizen\")"
   ]
  }
 ],
 "metadata": {
  "kernelspec": {
   "display_name": "Python 3",
   "language": "python",
   "name": "python3"
  },
  "language_info": {
   "codemirror_mode": {
    "name": "ipython",
    "version": 3
   },
   "file_extension": ".py",
   "mimetype": "text/x-python",
   "name": "python",
   "nbconvert_exporter": "python",
   "pygments_lexer": "ipython3",
   "version": "3.12.4"
  }
 },
 "nbformat": 4,
 "nbformat_minor": 2
}
