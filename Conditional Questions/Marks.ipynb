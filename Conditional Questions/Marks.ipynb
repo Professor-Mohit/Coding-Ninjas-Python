{
 "cells": [
  {
   "cell_type": "markdown",
   "metadata": {},
   "source": [
    "Alice has scored \n",
    "\n",
    "X marks in her test and Bob has scored \n",
    "\n",
    "Y marks in the same test. Alice is happy if she scored at least twice the marks of Bob’s score. Determine whether she is happy or not.\n",
    "\n",
    "Input Format\n",
    "The first and only line of input contains two space-separated integers \n",
    "X\n",
    ",\n",
    "Y\n",
    "X,Y — the marks of Alice and Bob respectively.\n",
    "Output Format\n",
    "For each testcase, print Yes if Alice is happy and No if she is not, according to the problem statement.\n",
    "\n",
    "The judge is case insensitive so you may output the answer in any case. In particular YES, yes, yEsare all considered equivalent toYes`."
   ]
  },
  {
   "cell_type": "code",
   "execution_count": 6,
   "metadata": {},
   "outputs": [
    {
     "name": "stdout",
     "output_type": "stream",
     "text": [
      "yes\n"
     ]
    }
   ],
   "source": [
    "# x,y = map(int,input().split())\n",
    "\n",
    "# write your code here\n",
    "x = 2\n",
    "y = 1\n",
    "if x >= 2*y:\n",
    "    print(\"yes\")\n",
    "else:\n",
    "    print(\"no\")"
   ]
  }
 ],
 "metadata": {
  "kernelspec": {
   "display_name": "Python 3",
   "language": "python",
   "name": "python3"
  },
  "language_info": {
   "codemirror_mode": {
    "name": "ipython",
    "version": 3
   },
   "file_extension": ".py",
   "mimetype": "text/x-python",
   "name": "python",
   "nbconvert_exporter": "python",
   "pygments_lexer": "ipython3",
   "version": "3.12.4"
  }
 },
 "nbformat": 4,
 "nbformat_minor": 2
}
