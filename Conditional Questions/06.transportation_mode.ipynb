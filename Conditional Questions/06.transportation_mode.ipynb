{
 "cells": [
  {
   "cell_type": "markdown",
   "metadata": {},
   "source": [
    "06. Transportation mode selected\n",
    "    Choose a mode of transportation based on the distance (e.g.,)<3 km: Walk, 3-15km: Bike, >15km: car"
   ]
  },
  {
   "cell_type": "code",
   "execution_count": 39,
   "metadata": {},
   "outputs": [
    {
     "name": "stdout",
     "output_type": "stream",
     "text": [
      "Transport:  Bike\n"
     ]
    }
   ],
   "source": [
    "d = int(input())\n",
    "\n",
    "if  t == 0:\n",
    "    print(\"Invalid number\")\n",
    "elif d <= 3:\n",
    "    t = \"Walk\"\n",
    "elif d <= 15:\n",
    "    t = \"Bike\"\n",
    "else:\n",
    "    t = \"Car\"\n",
    "\n",
    "print(\"Transport: \", t)\n"
   ]
  }
 ],
 "metadata": {
  "kernelspec": {
   "display_name": "Python 3",
   "language": "python",
   "name": "python3"
  },
  "language_info": {
   "codemirror_mode": {
    "name": "ipython",
    "version": 3
   },
   "file_extension": ".py",
   "mimetype": "text/x-python",
   "name": "python",
   "nbconvert_exporter": "python",
   "pygments_lexer": "ipython3",
   "version": "3.12.4"
  }
 },
 "nbformat": 4,
 "nbformat_minor": 2
}
