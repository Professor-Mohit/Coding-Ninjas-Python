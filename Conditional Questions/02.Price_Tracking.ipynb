{
 "cells": [
  {
   "cell_type": "markdown",
   "metadata": {},
   "source": [
    "02. Movie Ticket Pricing.\n",
    "    Movie ticket are priced based on age: $12 for adults (18 and above), $8 for childrens. Everyone gets a $2 discount on Wednesday.\n",
    "     "
   ]
  },
  {
   "cell_type": "code",
   "execution_count": 8,
   "metadata": {},
   "outputs": [
    {
     "name": "stdout",
     "output_type": "stream",
     "text": [
      "Price for 10 year old on Wednesday is $6\n"
     ]
    }
   ],
   "source": [
    "age = int(input())\n",
    "day = \"Wednesday\"\n",
    "price = 12 if age >=18 else 8\n",
    "if day == \"Wednesday\":\n",
    "    price -= 2\n",
    "print(f\"Price for {age} year old on {day} is ${price}\")\n"
   ]
  }
 ],
 "metadata": {
  "kernelspec": {
   "display_name": "Python 3",
   "language": "python",
   "name": "python3"
  },
  "language_info": {
   "codemirror_mode": {
    "name": "ipython",
    "version": 3
   },
   "file_extension": ".py",
   "mimetype": "text/x-python",
   "name": "python",
   "nbconvert_exporter": "python",
   "pygments_lexer": "ipython3",
   "version": "3.12.4"
  }
 },
 "nbformat": 4,
 "nbformat_minor": 2
}
