{
 "cells": [
  {
   "cell_type": "markdown",
   "metadata": {},
   "source": [
    "08. Password Strength"
   ]
  },
  {
   "cell_type": "code",
   "execution_count": 2,
   "metadata": {},
   "outputs": [
    {
     "name": "stdout",
     "output_type": "stream",
     "text": [
      "Password:  strong\n"
     ]
    }
   ],
   "source": [
    "password = \"Secure3P@ss\"\n",
    "password_length = len(password)\n",
    "\n",
    "if len(password) < 6:\n",
    "    strenght = \"Weak\"\n",
    "elif len (password) <= 10:\n",
    "    strenght = \"Medium\"\n",
    "else:\n",
    "    strength = \"strong\"\n",
    "#\n",
    "print(\"Password: \" , strength)"
   ]
  }
 ],
 "metadata": {
  "kernelspec": {
   "display_name": "Python 3",
   "language": "python",
   "name": "python3"
  },
  "language_info": {
   "codemirror_mode": {
    "name": "ipython",
    "version": 3
   },
   "file_extension": ".py",
   "mimetype": "text/x-python",
   "name": "python",
   "nbconvert_exporter": "python",
   "pygments_lexer": "ipython3",
   "version": "3.12.4"
  }
 },
 "nbformat": 4,
 "nbformat_minor": 2
}
