{
 "cells": [
  {
   "cell_type": "markdown",
   "metadata": {},
   "source": [
    "10. Write a program to finf the greatest of four number enterd by user."
   ]
  },
  {
   "cell_type": "code",
   "execution_count": 11,
   "metadata": {},
   "outputs": [
    {
     "name": "stdout",
     "output_type": "stream",
     "text": [
      "The greatest number is: 26\n"
     ]
    }
   ],
   "source": [
    "# Get four numbers from the user\n",
    "n1 = int(input(\"Enter the first number: \"))\n",
    "n2 = int(input(\"Enter the second number: \"))\n",
    "n3 = int(input(\"Enter the third number: \"))\n",
    "n4 = int(input(\"Enter the fourth number: \"))\n",
    "\n",
    "# Find the greatest number using a simple if-elif-else chain\n",
    "if n1 >= n2 and n1 >= n3 and n1 >= n4:\n",
    "    print(\"The greatest number is:\", n1)\n",
    "elif n2 >= n1 and n2 >= n3 and n2 >= n4:\n",
    "    print(\"The greatest number is:\", n2)\n",
    "elif n3 >= n1 and n3 >= n2 and n3 >= n4:\n",
    "    print(\"The greatest number is:\", n3)\n",
    "else:\n",
    "    print(\"The greatest number is:\", n4)"
   ]
  }
 ],
 "metadata": {
  "kernelspec": {
   "display_name": "Python 3",
   "language": "python",
   "name": "python3"
  },
  "language_info": {
   "codemirror_mode": {
    "name": "ipython",
    "version": 3
   },
   "file_extension": ".py",
   "mimetype": "text/x-python",
   "name": "python",
   "nbconvert_exporter": "python",
   "pygments_lexer": "ipython3",
   "version": "3.12.4"
  }
 },
 "nbformat": 4,
 "nbformat_minor": 2
}
