{
 "cells": [
  {
   "cell_type": "markdown",
   "metadata": {},
   "source": [
    "04. Fruit ripeness checker\n",
    "    Determine if a fruit is ripe, overripe, or unripe based on its color. (e.g Banana: Green-unripe, Yellow-ripe, Brown - overripe) "
   ]
  },
  {
   "cell_type": "code",
   "execution_count": 1,
   "metadata": {},
   "outputs": [],
   "source": [
    "f = \"banana\"\n",
    "color = input()\n",
    "\n",
    "if f == \"banana\":\n",
    "    if color == \"Green\":\n",
    "        print(\"unriped\")\n",
    "    elif color == \"yellow\":\n",
    "        print(\"riped\")\n",
    "    elif color == \"brown\":\n",
    "        print(\"overriped\")\n",
    "else:\n",
    "    (\"You enterd a wrong color\")"
   ]
  }
 ],
 "metadata": {
  "kernelspec": {
   "display_name": "Python 3",
   "language": "python",
   "name": "python3"
  },
  "language_info": {
   "codemirror_mode": {
    "name": "ipython",
    "version": 3
   },
   "file_extension": ".py",
   "mimetype": "text/x-python",
   "name": "python",
   "nbconvert_exporter": "python",
   "pygments_lexer": "ipython3",
   "version": "3.12.4"
  }
 },
 "nbformat": 4,
 "nbformat_minor": 2
}
