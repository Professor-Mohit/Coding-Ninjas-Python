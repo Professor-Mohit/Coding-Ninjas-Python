{
 "cells": [
  {
   "cell_type": "markdown",
   "metadata": {},
   "source": [
    "05. Wheather activity Suggestion\n",
    "    Suggest an activity based on the Weather (e.g Sunny - Go for walk , Rainy - Read a book, Snowy - Built a snowman)\n",
    "    "
   ]
  },
  {
   "cell_type": "code",
   "execution_count": 1,
   "metadata": {},
   "outputs": [
    {
     "name": "stdout",
     "output_type": "stream",
     "text": [
      "Read a Book\n"
     ]
    }
   ],
   "source": [
    "\n",
    "w = input()\n",
    "\n",
    "if w == \"Rainy\":\n",
    "    a = \"Read a Book\"\n",
    "elif w == \"Sunny\":\n",
    "    a = \"Go for Walk\"\n",
    "elif w == \"Snowy\":\n",
    "    a = \"Buit a Snowman\"\n",
    "\n",
    "print(a)"
   ]
  }
 ],
 "metadata": {
  "kernelspec": {
   "display_name": "Python 3",
   "language": "python",
   "name": "python3"
  },
  "language_info": {
   "codemirror_mode": {
    "name": "ipython",
    "version": 3
   },
   "file_extension": ".py",
   "mimetype": "text/x-python",
   "name": "python",
   "nbconvert_exporter": "python",
   "pygments_lexer": "ipython3",
   "version": "3.12.4"
  }
 },
 "nbformat": 4,
 "nbformat_minor": 2
}
