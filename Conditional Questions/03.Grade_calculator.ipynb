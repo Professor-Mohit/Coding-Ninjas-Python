{
 "cells": [
  {
   "cell_type": "markdown",
   "metadata": {},
   "source": [
    "03. Grade Calculator \n",
    "    Assign a letter grade based on a student's Score:\n",
    "    A(90-100), B(80-89), C(70-79), D(60-69), F(Below 60)."
   ]
  },
  {
   "cell_type": "code",
   "execution_count": 1,
   "metadata": {},
   "outputs": [
    {
     "name": "stdout",
     "output_type": "stream",
     "text": [
      "fail\n",
      "Grade:  8\n"
     ]
    }
   ],
   "source": [
    "m = int(input())\n",
    "if m >= 100:\n",
    "    print(\"Verify your marks\")\n",
    "elif m >= 90:\n",
    "    print(\"A\")\n",
    "elif m >= 80:\n",
    "    print(\"B\")\n",
    "elif m >= 70:\n",
    "    print(\"C\")\n",
    "elif m >= 60:\n",
    "    print(\"D\")\n",
    "else:\n",
    "    print(\"fail\")\n",
    "\n",
    "print(\"Grade: \", m)\n"
   ]
  }
 ],
 "metadata": {
  "kernelspec": {
   "display_name": "Python 3",
   "language": "python",
   "name": "python3"
  },
  "language_info": {
   "codemirror_mode": {
    "name": "ipython",
    "version": 3
   },
   "file_extension": ".py",
   "mimetype": "text/x-python",
   "name": "python",
   "nbconvert_exporter": "python",
   "pygments_lexer": "ipython3",
   "version": "3.12.4"
  }
 },
 "nbformat": 4,
 "nbformat_minor": 2
}
