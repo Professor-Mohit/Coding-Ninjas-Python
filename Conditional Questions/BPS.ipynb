{
 "cells": [
  {
   "cell_type": "markdown",
   "metadata": {},
   "source": [
    "Chef and Brain Speed\n",
    "In ChefLand, human brain speed is measured in bits per second (bps). Chef has a threshold limit of \n",
    "X\n",
    "X bits per second above which his calculations are prone to errors. If Chef is currently working at \n",
    "Y\n",
    "Y bits per second, is he prone to errors?\n",
    "\n",
    "If Chef is prone to errors print YES, otherwise print NO.\n",
    "\n",
    "Input Format\n",
    "The only line of input contains two space separated integers \n",
    "X\n",
    "X and \n",
    "Y\n",
    "Y — the threshold limit and the rate at which Chef is currently working at.\n",
    "\n",
    "Output Format\n",
    "If Chef is prone to errors print YES, otherwise print NO.\n",
    "\n",
    "You may print each character of the string in uppercase or lowercase (for example, the strings yes, Yes, yEs, and YES will all be treated as identical)."
   ]
  },
  {
   "cell_type": "code",
   "execution_count": 3,
   "metadata": {},
   "outputs": [
    {
     "name": "stdout",
     "output_type": "stream",
     "text": [
      "Yes\n"
     ]
    }
   ],
   "source": [
    "x,y = map(int,input().split())\n",
    "if x >= y:\n",
    "    print(\"No\")\n",
    "else:\n",
    "    print(\"Yes\")"
   ]
  }
 ],
 "metadata": {
  "kernelspec": {
   "display_name": "Python 3",
   "language": "python",
   "name": "python3"
  },
  "language_info": {
   "codemirror_mode": {
    "name": "ipython",
    "version": 3
   },
   "file_extension": ".py",
   "mimetype": "text/x-python",
   "name": "python",
   "nbconvert_exporter": "python",
   "pygments_lexer": "ipython3",
   "version": "3.12.4"
  }
 },
 "nbformat": 4,
 "nbformat_minor": 2
}
