{
 "cells": [
  {
   "cell_type": "markdown",
   "metadata": {},
   "source": [
    "Maximum marks list"
   ]
  },
  {
   "cell_type": "code",
   "execution_count": 3,
   "metadata": {},
   "outputs": [
    {
     "name": "stdout",
     "output_type": "stream",
     "text": [
      "9\n"
     ]
    }
   ],
   "source": [
    "# Maximum marks list\n",
    "\n",
    "all_marks = list(map(int, input().split(\" \")))\n",
    "# taking list of integer as input\n",
    "# converting string to integer using map function\n",
    "max_marks = all_marks[0]\n",
    "for marks in all_marks:\n",
    "    max_marks = max(marks, max_marks)\n",
    "print(max_marks)"
   ]
  },
  {
   "cell_type": "markdown",
   "metadata": {},
   "source": [
    "1. all_marks = list(map(int, input().split(\" \"))): This line takes a string input from the user, splits it into a list of strings using the split() function with a space as the separator, and then converts each string into an integer using the map() function. The resulting list of integers is stored in the all_marks variable.\n",
    "\n",
    "2. max_marks = all_marks[0]: This line initializes the max_marks variable with the first element of the all_marks list.\n",
    "\n",
    "3. for marks in all_marks: max_marks = max(marks, max_marks): This loop iterates over each element in the all_marks list. For each element, it compares the current max_marks with the current element and updates max_marks with the maximum value.\n",
    "\n",
    "4. print(max_marks): Finally, this line prints the maximum marks found in the list.\n",
    "\n",
    "5. For example, if the user inputs \"80 70 90 85\", the output will be \"90\", which is the maximum marks in the list."
   ]
  },
  {
   "cell_type": "code",
   "execution_count": 7,
   "metadata": {},
   "outputs": [
    {
     "name": "stdout",
     "output_type": "stream",
     "text": [
      "10\n"
     ]
    }
   ],
   "source": [
    "# Given an array of length N, you need to find and print the sum of all elements of the array.\n",
    "\n",
    "n = int(input())\n",
    "a = list(map(int,input().split()))\n",
    "s = 0\n",
    "for i in a:\n",
    "    s+=i\n",
    "\n",
    "print(s)\n"
   ]
  },
  {
   "cell_type": "markdown",
   "metadata": {},
   "source": [
    "Arrange even to add numbers\n"
   ]
  },
  {
   "cell_type": "code",
   "execution_count": 10,
   "metadata": {},
   "outputs": [
    {
     "name": "stdout",
     "output_type": "stream",
     "text": [
      "[2, 4, 6, 2, 1, 3, 3, 5, 7]\n"
     ]
    }
   ],
   "source": [
    "def arrange_even_odd(arr):\n",
    "  odd = 0\n",
    "  for i in range(len(arr)):\n",
    "    if arr[i] % 2 == 0:\n",
    "      arr[i], arr[odd] = arr[odd], arr[i]\n",
    "      odd += 1\n",
    "  print(arr)\n",
    "arr=[1,2,3,5,4,6,3,2, 7]\n",
    "arrange_even_odd(arr)"
   ]
  }
 ],
 "metadata": {
  "kernelspec": {
   "display_name": "Python 3",
   "language": "python",
   "name": "python3"
  },
  "language_info": {
   "codemirror_mode": {
    "name": "ipython",
    "version": 3
   },
   "file_extension": ".py",
   "mimetype": "text/x-python",
   "name": "python",
   "nbconvert_exporter": "python",
   "pygments_lexer": "ipython3",
   "version": "3.12.4"
  }
 },
 "nbformat": 4,
 "nbformat_minor": 2
}
