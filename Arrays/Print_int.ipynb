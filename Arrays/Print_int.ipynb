{
 "cells": [
  {
   "cell_type": "markdown",
   "metadata": {},
   "source": [
    "Write a Python program to create an array of 5 integers and display the array items. Access individual elements through indexes."
   ]
  },
  {
   "cell_type": "code",
   "execution_count": 1,
   "metadata": {},
   "outputs": [
    {
     "name": "stdout",
     "output_type": "stream",
     "text": [
      "1\n",
      "3\n",
      "5\n",
      "7\n",
      "9\n",
      "Access first three items individually\n",
      "1\n",
      "3\n",
      "5\n"
     ]
    }
   ],
   "source": [
    "from array import *\n",
    "array_num = array('i', [1,3,5,7,9])\n",
    "for i in array_num:\n",
    "    print(i)\n",
    "print(\"Access first three items individually\")\n",
    "print(array_num[0])\n",
    "print(array_num[1])\n",
    "print(array_num[2])\n"
   ]
  }
 ],
 "metadata": {
  "kernelspec": {
   "display_name": "Python 3",
   "language": "python",
   "name": "python3"
  },
  "language_info": {
   "codemirror_mode": {
    "name": "ipython",
    "version": 3
   },
   "file_extension": ".py",
   "mimetype": "text/x-python",
   "name": "python",
   "nbconvert_exporter": "python",
   "pygments_lexer": "ipython3",
   "version": "3.12.4"
  }
 },
 "nbformat": 4,
 "nbformat_minor": 2
}
