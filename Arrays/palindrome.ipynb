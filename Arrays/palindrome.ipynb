{
 "cells": [
  {
   "cell_type": "code",
   "execution_count": 48,
   "metadata": {},
   "outputs": [
    {
     "name": "stdout",
     "output_type": "stream",
     "text": [
      "Palindrome [1245697]\n"
     ]
    }
   ],
   "source": [
    "nums  = list(map(int, input().split(\" \")))\n",
    "p = True\n",
    "for i in range(len(nums)//2):\n",
    "    if nums[i] != nums[-i - 1]:\n",
    "        p = False\n",
    "        break\n",
    "if p:\n",
    "    print(\"Palindrome\" , nums)\n",
    "else:\n",
    "    print(\"not a palindrome\" , nums)\n",
    "\n"
   ]
  }
 ],
 "metadata": {
  "kernelspec": {
   "display_name": "Python 3",
   "language": "python",
   "name": "python3"
  },
  "language_info": {
   "codemirror_mode": {
    "name": "ipython",
    "version": 3
   },
   "file_extension": ".py",
   "mimetype": "text/x-python",
   "name": "python",
   "nbconvert_exporter": "python",
   "pygments_lexer": "ipython3",
   "version": "3.12.4"
  }
 },
 "nbformat": 4,
 "nbformat_minor": 2
}
