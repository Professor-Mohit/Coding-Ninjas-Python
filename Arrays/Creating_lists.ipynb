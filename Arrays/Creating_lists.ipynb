{
 "cells": [
  {
   "cell_type": "code",
   "execution_count": 5,
   "metadata": {},
   "outputs": [
    {
     "name": "stdout",
     "output_type": "stream",
     "text": [
      "Total 1: 80\n",
      "adding again\n",
      "Total 2:  80\n"
     ]
    }
   ],
   "source": [
    "# Creating lists\n",
    "\n",
    "marks = [15, 18, 20, 13, 14]\n",
    "total = 0\n",
    "for num in marks:\n",
    "    total += num\n",
    "print(\"Total 1:\" , total)\n",
    "\n",
    "print(\"adding again\")\n",
    "\n",
    "total2 = 0\n",
    "for i in range(len(marks)):\n",
    "    total2 += marks[i]\n",
    "print(\"Total 2: \",total2)"
   ]
  },
  {
   "cell_type": "markdown",
   "metadata": {},
   "source": [
    "Adding"
   ]
  },
  {
   "cell_type": "code",
   "execution_count": 13,
   "metadata": {},
   "outputs": [
    {
     "name": "stdout",
     "output_type": "stream",
     "text": [
      "[1, 2, 3, 4, 5, 6]\n",
      "[1, 2, 3, 4, 5, 50, 6]\n",
      "[1, 2, 3, 4, 5, 50, 6, 20, 30, 40]\n"
     ]
    }
   ],
   "source": [
    "nums = [1 , 2 , 3 , 4 , 5]\n",
    "nums.append(6)\n",
    "print(nums)\n",
    "\n",
    "nums.insert(5, 50)\n",
    "print(nums)\n",
    "\n",
    "nums.extend([20 ,30, 40])\n",
    "print(nums)"
   ]
  },
  {
   "cell_type": "markdown",
   "metadata": {},
   "source": [
    "Removing"
   ]
  },
  {
   "cell_type": "code",
   "execution_count": 44,
   "metadata": {},
   "outputs": [
    {
     "name": "stdout",
     "output_type": "stream",
     "text": [
      "[5, 6, 7, 8, 9, 10, 7, 10]\n",
      "[5, 6, 7, 8, 10, 7, 10]\n",
      "[5, 6, 8, 10, 7, 10]\n",
      "[]\n"
     ]
    }
   ],
   "source": [
    "nums = [5, 6 , 7 , 8, 9 ,10, 7, 10, 12]\n",
    "nums.pop()\n",
    "print(nums)\n",
    "nums.pop(4)\n",
    "print(nums)\n",
    "\n",
    "\n",
    "nums.remove(7)\n",
    "print(nums)\n",
    "\n",
    "\n",
    "nums.clear()\n",
    "print(nums) #Printed empty elements\n",
    "\n",
    "\n"
   ]
  },
  {
   "cell_type": "markdown",
   "metadata": {},
   "source": [
    "Copy"
   ]
  },
  {
   "cell_type": "markdown",
   "metadata": {},
   "source": [
    "Index"
   ]
  },
  {
   "cell_type": "markdown",
   "metadata": {},
   "source": [
    "Reverse"
   ]
  },
  {
   "cell_type": "markdown",
   "metadata": {},
   "source": [
    "Sort"
   ]
  },
  {
   "cell_type": "markdown",
   "metadata": {},
   "source": [
    "'+ & *"
   ]
  },
  {
   "cell_type": "code",
   "execution_count": 46,
   "metadata": {},
   "outputs": [
    {
     "name": "stdout",
     "output_type": "stream",
     "text": [
      "[5, 4, 3, 2, 1]\n",
      "Arrange the number [1, 1, 2, 2, 2, 3, 4, 5, 6]\n",
      "[1, 2, 3, 4, 3, 4, 3, 4]\n"
     ]
    }
   ],
   "source": [
    "nums=[1,2,3,4,5]\n",
    "nums.reverse()\n",
    "print(nums)\n",
    "\n",
    "nums=[2,4,3,1,5,2,6,2,1]\n",
    "nums.sort()\n",
    "print(\"Arrange the number\", nums)\n",
    "\n",
    "nums=[1,2]\n",
    "nums2=[3,4]\n",
    "print(nums + 3*nums2)"
   ]
  },
  {
   "cell_type": "code",
   "execution_count": 48,
   "metadata": {},
   "outputs": [
    {
     "name": "stdout",
     "output_type": "stream",
     "text": [
      "['abcd', 'def', 5]\n"
     ]
    }
   ],
   "source": [
    "# What will be the output of following code?\n",
    "\n",
    "li =['abcd', 'def']\n",
    "li.insert(3,5)\n",
    "print(li)"
   ]
  },
  {
   "cell_type": "code",
   "execution_count": null,
   "metadata": {},
   "outputs": [],
   "source": []
  }
 ],
 "metadata": {
  "kernelspec": {
   "display_name": "Python 3",
   "language": "python",
   "name": "python3"
  },
  "language_info": {
   "codemirror_mode": {
    "name": "ipython",
    "version": 3
   },
   "file_extension": ".py",
   "mimetype": "text/x-python",
   "name": "python",
   "nbconvert_exporter": "python",
   "pygments_lexer": "ipython3",
   "version": "3.12.4"
  }
 },
 "nbformat": 4,
 "nbformat_minor": 2
}
