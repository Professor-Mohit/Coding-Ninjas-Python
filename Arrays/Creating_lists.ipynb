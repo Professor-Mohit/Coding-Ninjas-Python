{
 "cells": [
  {
   "cell_type": "code",
   "execution_count": 5,
   "metadata": {},
   "outputs": [
    {
     "name": "stdout",
     "output_type": "stream",
     "text": [
      "Total 1: 80\n",
      "adding again\n",
      "Total 2:  80\n"
     ]
    }
   ],
   "source": [
    "# Creating lists\n",
    "\n",
    "marks = [15, 18, 20, 13, 14]\n",
    "total = 0\n",
    "for num in marks:\n",
    "    total += num\n",
    "print(\"Total 1:\" , total)\n",
    "\n",
    "print(\"adding again\")\n",
    "\n",
    "total2 = 0\n",
    "for i in range(len(marks)):\n",
    "    total2 += marks[i]\n",
    "print(\"Total 2: \",total2)"
   ]
  }
 ],
 "metadata": {
  "kernelspec": {
   "display_name": "Python 3",
   "language": "python",
   "name": "python3"
  },
  "language_info": {
   "codemirror_mode": {
    "name": "ipython",
    "version": 3
   },
   "file_extension": ".py",
   "mimetype": "text/x-python",
   "name": "python",
   "nbconvert_exporter": "python",
   "pygments_lexer": "ipython3",
   "version": "3.12.4"
  }
 },
 "nbformat": 4,
 "nbformat_minor": 2
}
