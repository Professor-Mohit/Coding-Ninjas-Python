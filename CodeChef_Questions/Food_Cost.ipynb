{
 "cells": [
  {
   "cell_type": "markdown",
   "metadata": {},
   "source": [
    "You're a bit all over the place as a college student. You used to eat out at expensive restaurants almost every day until your parents gave you a talking-to about being irresponsible. Now, you've got to control your eating and spending habits.\n",
    "\n",
    "So, here's the plan: you'll stick to the college mess for your meals every day, except Sundays. On Sundays, you're treating yourself to those fancy restaurant meals.\n",
    "The cost is Rs. \n",
    "X for the mess food each day, and Rs. \n",
    "Y for the restaurant splurges.\n",
    "\n",
    "Now, what's the cost of food per week? Note that you don't have to pay for the mess on Sundays.\n",
    "A week has seven days, as usual.\n",
    "\n",
    "Input Format\n",
    "The first and only line of input contains \n",
    "2 space-separated integers, \n",
    "X and \n",
    "Y."
   ]
  },
  {
   "cell_type": "code",
   "execution_count": 1,
   "metadata": {},
   "outputs": [
    {
     "name": "stdout",
     "output_type": "stream",
     "text": [
      "3600\n"
     ]
    }
   ],
   "source": [
    "x,y = map(int, input().split())\n",
    "total_cost = 6 * x + y\n",
    "print(total_cost)"
   ]
  }
 ],
 "metadata": {
  "kernelspec": {
   "display_name": "Python 3",
   "language": "python",
   "name": "python3"
  },
  "language_info": {
   "codemirror_mode": {
    "name": "ipython",
    "version": 3
   },
   "file_extension": ".py",
   "mimetype": "text/x-python",
   "name": "python",
   "nbconvert_exporter": "python",
   "pygments_lexer": "ipython3",
   "version": "3.12.4"
  }
 },
 "nbformat": 4,
 "nbformat_minor": 2
}
