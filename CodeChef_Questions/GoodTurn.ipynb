{
 "cells": [
  {
   "cell_type": "markdown",
   "metadata": {},
   "source": [
    "Good Turn\n",
    "Chef and Chefina are playing with dice. In one turn, both of them roll their dice at once.\n",
    "\n",
    "They consider a turn to be good if the sum of the numbers on their dice is greater than\n",
    "6.\n",
    "Given that in a particular turn Chef and Chefina got \n",
    "Xand \n",
    "Y on their respective dice, find whether the turn was good.\n",
    "\n",
    "Input Format\n",
    "The first line of input will contain a single integer \n",
    "\n",
    "T, denoting the number of test cases.\n",
    "Each test case contains two space-separated integers \n",
    "\n",
    "X and \n",
    "Y — the numbers Chef and Chefina got on their respective dice.\n",
    "Output Format\n",
    "For each test case, output on a new line, YES, if the turn was good and NO otherwise.\n",
    "\n",
    "Each character of the output may be printed in either uppercase or lowercase. That is, the strings NO, no, nO, and No will be treated as equivalent."
   ]
  },
  {
   "cell_type": "code",
   "execution_count": 1,
   "metadata": {},
   "outputs": [
    {
     "ename": "ValueError",
     "evalue": "not enough values to unpack (expected 2, got 1)",
     "output_type": "error",
     "traceback": [
      "\u001b[1;31m---------------------------------------------------------------------------\u001b[0m",
      "\u001b[1;31mValueError\u001b[0m                                Traceback (most recent call last)",
      "Cell \u001b[1;32mIn[1], line 3\u001b[0m\n\u001b[0;32m      1\u001b[0m num \u001b[38;5;241m=\u001b[39m \u001b[38;5;28mint\u001b[39m(\u001b[38;5;28minput\u001b[39m())\n\u001b[0;32m      2\u001b[0m \u001b[38;5;28;01mfor\u001b[39;00m i \u001b[38;5;129;01min\u001b[39;00m \u001b[38;5;28mrange\u001b[39m(num):\n\u001b[1;32m----> 3\u001b[0m     (x,y) \u001b[38;5;241m=\u001b[39m \u001b[38;5;28mmap\u001b[39m(\u001b[38;5;28mint\u001b[39m,\u001b[38;5;28minput\u001b[39m()\u001b[38;5;241m.\u001b[39msplit())\n\u001b[0;32m      4\u001b[0m     \u001b[38;5;28;01mif\u001b[39;00m x \u001b[38;5;241m+\u001b[39m y \u001b[38;5;241m<\u001b[39m\u001b[38;5;241m=\u001b[39m \u001b[38;5;241m6\u001b[39m:\n\u001b[0;32m      5\u001b[0m             \u001b[38;5;28mprint\u001b[39m(\u001b[38;5;124m\"\u001b[39m\u001b[38;5;124mNo\u001b[39m\u001b[38;5;124m\"\u001b[39m)\n",
      "\u001b[1;31mValueError\u001b[0m: not enough values to unpack (expected 2, got 1)"
     ]
    }
   ],
   "source": [
    "num = int(input())\n",
    "for i in range(num):\n",
    "    (x,y) = map(int,input().split())\n",
    "    if x + y <= 6:\n",
    "            print(\"No\")\n",
    "    else: \n",
    "        print(\"yes\")\n",
    "\n",
    "\n",
    "num = int(input())\n",
    "for i in range(num):\n",
    "    (x,y) = map(int,input().split())\n",
    "    if x + y <= 6:\n",
    "            print(\"No\")\n",
    "    else: \n",
    "        print(\"yes\")\n",
    "\n",
    "\n"
   ]
  }
 ],
 "metadata": {
  "kernelspec": {
   "display_name": "Python 3",
   "language": "python",
   "name": "python3"
  },
  "language_info": {
   "codemirror_mode": {
    "name": "ipython",
    "version": 3
   },
   "file_extension": ".py",
   "mimetype": "text/x-python",
   "name": "python",
   "nbconvert_exporter": "python",
   "pygments_lexer": "ipython3",
   "version": "3.12.4"
  }
 },
 "nbformat": 4,
 "nbformat_minor": 2
}
