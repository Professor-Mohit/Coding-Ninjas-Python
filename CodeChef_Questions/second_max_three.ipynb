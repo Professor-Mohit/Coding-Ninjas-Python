{
 "cells": [
  {
   "cell_type": "markdown",
   "metadata": {},
   "source": [
    "Write a program that accepts sets of three numbers, and prints the second-maximum number among the three.\n",
    "\n",
    "Input\n",
    "First line contains the number of triples, N.\n",
    "The next N lines which follow each have three space separated integers."
   ]
  },
  {
   "cell_type": "code",
   "execution_count": 3,
   "metadata": {},
   "outputs": [
    {
     "name": "stdout",
     "output_type": "stream",
     "text": [
      "2\n",
      "2\n"
     ]
    }
   ],
   "source": [
    "for t in range(int(input())):\n",
    "    x = list(map(int,input().split()))\n",
    "    x.sort()\n",
    "    print(x[-2])\n",
    "\n",
    "\n",
    "# i did't understand the problem statement\n"
   ]
  }
 ],
 "metadata": {
  "kernelspec": {
   "display_name": "Python 3",
   "language": "python",
   "name": "python3"
  },
  "language_info": {
   "codemirror_mode": {
    "name": "ipython",
    "version": 3
   },
   "file_extension": ".py",
   "mimetype": "text/x-python",
   "name": "python",
   "nbconvert_exporter": "python",
   "pygments_lexer": "ipython3",
   "version": "3.12.4"
  }
 },
 "nbformat": 4,
 "nbformat_minor": 2
}
