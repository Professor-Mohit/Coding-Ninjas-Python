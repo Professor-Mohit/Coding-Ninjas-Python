{
 "cells": [
  {
   "cell_type": "code",
   "execution_count": null,
   "metadata": {},
   "outputs": [],
   "source": []
  },
  {
   "cell_type": "markdown",
   "metadata": {},
   "source": [
    "Water Consumption\n",
    "Recently, Chef visited his doctor. The doctor advised Chef to drink at least \n",
    "2000 ml of water each day.\n",
    "\n",
    "Chef drank \n",
    "\n",
    "X ml of water today. Determine if Chef followed the doctor's advice or not.\n",
    "\n",
    "Input Format\n",
    "The first line contains a single integer \n",
    "\n",
    "T — the number of test cases. Then the test cases follow.\n",
    "The first and only line of each test case contains one integer \n",
    "\n",
    "X — the amount of water Chef drank today."
   ]
  },
  {
   "cell_type": "code",
   "execution_count": 7,
   "metadata": {},
   "outputs": [
    {
     "name": "stdout",
     "output_type": "stream",
     "text": [
      "no\n"
     ]
    }
   ],
   "source": [
    "t = int(input())\n",
    "for i in range(0,t):\n",
    "    x =  int(input())\n",
    "    # write your code here\n",
    "    if x >= 2000:\n",
    "        print(\"yes\")\n",
    "        break \n",
    "    else:\n",
    "        print(\"no\")\n",
    "        break"
   ]
  }
 ],
 "metadata": {
  "kernelspec": {
   "display_name": "Python 3",
   "language": "python",
   "name": "python3"
  },
  "language_info": {
   "codemirror_mode": {
    "name": "ipython",
    "version": 3
   },
   "file_extension": ".py",
   "mimetype": "text/x-python",
   "name": "python",
   "nbconvert_exporter": "python",
   "pygments_lexer": "ipython3",
   "version": "3.12.4"
  }
 },
 "nbformat": 4,
 "nbformat_minor": 2
}
