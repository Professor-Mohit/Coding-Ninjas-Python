{
 "cells": [
  {
   "cell_type": "code",
   "execution_count": 15,
   "metadata": {},
   "outputs": [
    {
     "name": "stdout",
     "output_type": "stream",
     "text": [
      "A\n",
      "AB\n",
      "ABC\n",
      "ABCD\n"
     ]
    }
   ],
   "source": [
    "# n = int(input())\n",
    "\n",
    "# for i in range(0, n):\n",
    "#     for j in range(0, i+1):\n",
    "#         print(chr(65 + j) ,end = \"\")\n",
    "#     print()\n",
    "\n",
    "\n",
    "\n",
    "\n",
    "n = int(input())\n",
    "# j = 1\n",
    "for i in range(0,n):\n",
    "    for j in range(0, i+1):\n",
    "        char = chr(65 + j)\n",
    "        asscii = ord(char)\n",
    "        print(char, end = \"\")\n",
    "    print()\n"
   ]
  }
 ],
 "metadata": {
  "kernelspec": {
   "display_name": "Python 3",
   "language": "python",
   "name": "python3"
  },
  "language_info": {
   "codemirror_mode": {
    "name": "ipython",
    "version": 3
   },
   "file_extension": ".py",
   "mimetype": "text/x-python",
   "name": "python",
   "nbconvert_exporter": "python",
   "pygments_lexer": "ipython3",
   "version": "3.12.4"
  }
 },
 "nbformat": 4,
 "nbformat_minor": 2
}
