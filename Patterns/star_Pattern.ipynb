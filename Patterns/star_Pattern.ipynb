{
 "cells": [
  {
   "cell_type": "code",
   "execution_count": null,
   "metadata": {},
   "outputs": [],
   "source": []
  },
  {
   "cell_type": "markdown",
   "metadata": {},
   "source": [
    "Make a pattern like this "
   ]
  },
  {
   "cell_type": "code",
   "execution_count": null,
   "metadata": {},
   "outputs": [],
   "source": [
    "''' ****\n",
    "    ****\n",
    "    ****\n",
    "    ****'''\n",
    "n = int(input())\n",
    "i = 1\n",
    "\n",
    "while i <= n:\n",
    "    p = 1\n",
    "    while p <= n:\n",
    "        print(\"*\" , end = \"\")\n",
    "        p += 1\n",
    "    print()\n",
    "    i += 1\n",
    "\n",
    "\n",
    "n = int(input())\n",
    "\n",
    "for i in range(0, n):\n",
    "    for j in range(0, n):\n",
    "        print(\"*\", end = \"\")\n",
    "    print()"
   ]
  },
  {
   "cell_type": "markdown",
   "metadata": {},
   "source": []
  }
 ],
 "metadata": {
  "kernelspec": {
   "display_name": "Python 3",
   "language": "python",
   "name": "python3"
  },
  "language_info": {
   "codemirror_mode": {
    "name": "ipython",
    "version": 3
   },
   "file_extension": ".py",
   "mimetype": "text/x-python",
   "name": "python",
   "nbconvert_exporter": "python",
   "pygments_lexer": "ipython3",
   "version": "3.12.4"
  }
 },
 "nbformat": 4,
 "nbformat_minor": 2
}
