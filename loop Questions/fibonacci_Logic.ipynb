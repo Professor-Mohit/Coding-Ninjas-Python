{
 "cells": [
  {
   "cell_type": "markdown",
   "metadata": {},
   "source": [
    "Write a program to find the Nth Fibonacci number using loops.\n",
    "\n",
    "\n",
    "\n",
    "Note :\n",
    "The Fibonacci series is a sequence of numbers in which each number is the sum of the two preceding ones, usually starting with first_number  and Second_number . \n",
    "First_number and Second_number in this question will be 1 . Soo that the resultant series will be 1, 1, 2, 3, 5, 8 ..."
   ]
  },
  {
   "cell_type": "code",
   "execution_count": 76,
   "metadata": {},
   "outputs": [
    {
     "name": "stdout",
     "output_type": "stream",
     "text": [
      "34\n",
      "34\n"
     ]
    }
   ],
   "source": [
    "# def fibonacci(n):\n",
    "#     a = 0\n",
    "#     b = 1\n",
    "#     if n < 0:\n",
    "#         print(\"Incorrect input\")\n",
    "#     elif n == 0:\n",
    "#         return a\n",
    "#     elif n == 1:\n",
    "#         return b\n",
    "#     else:\n",
    "#         for i in range(2, n+1):\n",
    "#             c = a + b\n",
    "#             a = b\n",
    "#             b = c\n",
    "#         return b\n",
    "\n",
    "# n = int(input())\n",
    "# print(fibonacci(n))\n",
    "\n",
    "\n",
    "## Written by me in for loop.\n",
    "num = int(input())\n",
    "second_last_num = 0\n",
    "last_num = 1\n",
    "\n",
    "for i in range(2, num + 1):\n",
    "    next_num = second_last_num + last_num\n",
    "    second_last_num = last_num\n",
    "    last_num = next_num\n",
    "\n",
    "print(next_num)\n",
    "\n",
    "# # in While loop\n",
    "\n",
    "num = int(input())\n",
    "second_last_num = 0\n",
    "last_num = 1\n",
    "i = 2 \n",
    "\n",
    "while i <= num:\n",
    "    next_num = second_last_num + last_num\n",
    "    second_last_num = last_num\n",
    "    last_num = next_num\n",
    "    i += 1\n",
    "print(last_num)\n",
    "\n",
    "\n",
    "# Both are working same\n"
   ]
  },
  {
   "cell_type": "code",
   "execution_count": null,
   "metadata": {},
   "outputs": [],
   "source": []
  }
 ],
 "metadata": {
  "kernelspec": {
   "display_name": "Python 3",
   "language": "python",
   "name": "python3"
  },
  "language_info": {
   "codemirror_mode": {
    "name": "ipython",
    "version": 3
   },
   "file_extension": ".py",
   "mimetype": "text/x-python",
   "name": "python",
   "nbconvert_exporter": "python",
   "pygments_lexer": "ipython3",
   "version": "3.12.4"
  }
 },
 "nbformat": 4,
 "nbformat_minor": 2
}
