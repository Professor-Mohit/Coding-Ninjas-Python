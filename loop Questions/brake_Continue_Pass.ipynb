{
 "cells": [
  {
   "cell_type": "code",
   "execution_count": 1,
   "metadata": {},
   "outputs": [
    {
     "name": "stdout",
     "output_type": "stream",
     "text": [
      "2\n",
      "4\n",
      "6\n",
      "8\n",
      "10\n",
      "1\n",
      "2\n",
      "3\n",
      "4\n",
      "5\n",
      "6\n",
      "7\n",
      "8\n",
      "9\n",
      "10\n",
      "11\n",
      "12\n",
      "stopping the loop here....\n",
      "End\n",
      "1\n",
      "2\n",
      "3\n",
      "4\n",
      "5\n",
      "6\n",
      "7\n",
      "8\n",
      "9\n",
      "10\n",
      "11\n",
      "12\n",
      "13\n",
      "14\n",
      "15\n",
      "16\n",
      "17\n",
      "18\n",
      "19\n",
      "20\n",
      "End\n"
     ]
    }
   ],
   "source": [
    "\n",
    "num = 1\n",
    "\n",
    "while(num <= 10):\n",
    "    if num % 2 != 0:\n",
    "        # num is odd\n",
    "        num += 1 # go to the next natural number\n",
    "        continue # go to the nearest loop again\n",
    "    print(num)\n",
    "    num += 1\n",
    "\n",
    "num = 1\n",
    "\n",
    "while(num <= 20):\n",
    "    if num == 13:\n",
    "        print(\"stopping the loop here....\")\n",
    "        break\n",
    "    print(num)\n",
    "    num += 1\n",
    "\n",
    "print(\"End\")\n",
    "\n",
    "num = 1\n",
    "\n",
    "while(num <= 20):\n",
    "    if num == 13:\n",
    "        pass\n",
    "    print(num)\n",
    "    num += 1\n",
    "\n",
    "print(\"End\")\n"
   ]
  }
 ],
 "metadata": {
  "kernelspec": {
   "display_name": "Python 3",
   "language": "python",
   "name": "python3"
  },
  "language_info": {
   "codemirror_mode": {
    "name": "ipython",
    "version": 3
   },
   "file_extension": ".py",
   "mimetype": "text/x-python",
   "name": "python",
   "nbconvert_exporter": "python",
   "pygments_lexer": "ipython3",
   "version": "3.12.4"
  }
 },
 "nbformat": 4,
 "nbformat_minor": 2
}
