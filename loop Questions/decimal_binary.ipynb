{
 "cells": [
  {
   "cell_type": "markdown",
   "metadata": {},
   "source": [
    "Given a decimal number (integer N), convert it into binary and print.\n",
    "\n",
    "Note for C++ coders:\n",
    "Do not use the inbuilt implementation of \"pow\" function. The implementation of that function is done for 'double's and it may fail when used for 'int's, 'long's, or 'long long's. Implement your own \"pow\" function to work for non-float data types. \n",
    "The given input number could be large, so the corresponding binary number can exceed the integer range. So you may want to take the answer as long for CPP and Java. "
   ]
  },
  {
   "cell_type": "code",
   "execution_count": null,
   "metadata": {},
   "outputs": [],
   "source": [
    "n = int(input())\n",
    "a = \"\"\n",
    "if n == 0:\n",
    "    print(0)\n",
    "else:\n",
    "    while n>0:\n",
    "        if n%2 == 0:\n",
    "            a = \"0\" + a\n",
    "\n",
    "        else:\n",
    "            a  = \"1\" + a\n",
    "        n = n//2\n",
    "\n",
    "\n",
    "print(a)\n"
   ]
  }
 ],
 "metadata": {
  "language_info": {
   "name": "python"
  }
 },
 "nbformat": 4,
 "nbformat_minor": 2
}
