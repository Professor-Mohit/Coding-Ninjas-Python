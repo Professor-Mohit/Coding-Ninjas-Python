{
 "cells": [
  {
   "cell_type": "markdown",
   "metadata": {},
   "source": [
    "Print the first 10 Natural number."
   ]
  },
  {
   "cell_type": "code",
   "execution_count": 32,
   "metadata": {},
   "outputs": [
    {
     "name": "stdout",
     "output_type": "stream",
     "text": [
      "0\n",
      "1\n",
      "2\n",
      "3\n",
      "4\n",
      "5\n",
      "6\n",
      "7\n",
      "8\n",
      "9\n"
     ]
    }
   ],
   "source": [
    "# num = 1\n",
    "# while num <= 10:\n",
    "#     print(num)\n",
    "#     num += 1\n",
    "\n",
    "    \n",
    "# num = 0\n",
    "# while num < 10:\n",
    "#     print(num)\n",
    "#     num += 1\n",
    "\n",
    "\n",
    "i=0\n",
    "while i<10:\n",
    "    print(i)\n",
    "    i = i+1\n"
   ]
  },
  {
   "cell_type": "markdown",
   "metadata": {},
   "source": [
    "Multiple of Any Table"
   ]
  },
  {
   "cell_type": "code",
   "execution_count": 21,
   "metadata": {},
   "outputs": [
    {
     "name": "stdout",
     "output_type": "stream",
     "text": [
      "5\n",
      "10\n",
      "15\n",
      "20\n",
      "25\n",
      "30\n",
      "35\n",
      "40\n",
      "45\n",
      "50\n"
     ]
    }
   ],
   "source": [
    "value = int(input())\n",
    "i = 1\n",
    "\n",
    "while i <= 10:\n",
    "    print(i * value)\n",
    "    i += 1"
   ]
  },
  {
   "cell_type": "markdown",
   "metadata": {},
   "source": [
    "Print of sum N natural number"
   ]
  },
  {
   "cell_type": "code",
   "execution_count": 86,
   "metadata": {},
   "outputs": [
    {
     "name": "stdout",
     "output_type": "stream",
     "text": [
      "0 1\n",
      "1 2\n",
      "3 3\n",
      "6 4\n",
      "10 5\n",
      "15 6\n",
      "21\n"
     ]
    }
   ],
   "source": [
    "num = 1\n",
    "n = int(input())\n",
    "s = 0 \n",
    "\n",
    "while num <= n:\n",
    "    print(s, num)\n",
    "    s += num\n",
    "    num += 1\n",
    "print(s)"
   ]
  },
  {
   "cell_type": "markdown",
   "metadata": {},
   "source": [
    "Sum of all even n natural number "
   ]
  },
  {
   "cell_type": "code",
   "execution_count": 138,
   "metadata": {},
   "outputs": [
    {
     "name": "stdout",
     "output_type": "stream",
     "text": [
      "0 3\n",
      "3 6\n",
      "9 9\n",
      "18 12\n",
      "30 15\n",
      "45 18\n",
      "63 21\n",
      "84\n"
     ]
    }
   ],
   "source": [
    "# sum of even natural number less than or equal to n\n",
    "\n",
    "num = 3\n",
    "n = int(input())\n",
    "s = 0 \n",
    "\n",
    "while num <= n:\n",
    "    print(s, num)\n",
    "    s += num\n",
    "    num += 3\n",
    "print(s)\n",
    "\n",
    "\n",
    "\n",
    "\n",
    "\n",
    "\n",
    "# number = int(input())\n",
    "# count = 2\n",
    "# sum = 0\n",
    "# while count <= number:\n",
    "#     if count%2 == 0:\n",
    "#       sum = sum + count\n",
    "#     count = count + 1  \n",
    "# print(sum)\n"
   ]
  }
 ],
 "metadata": {
  "kernelspec": {
   "display_name": "Python 3",
   "language": "python",
   "name": "python3"
  },
  "language_info": {
   "codemirror_mode": {
    "name": "ipython",
    "version": 3
   },
   "file_extension": ".py",
   "mimetype": "text/x-python",
   "name": "python",
   "nbconvert_exporter": "python",
   "pygments_lexer": "ipython3",
   "version": "3.12.4"
  }
 },
 "nbformat": 4,
 "nbformat_minor": 2
}
