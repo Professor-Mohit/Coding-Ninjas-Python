{
 "cells": [
  {
   "cell_type": "markdown",
   "metadata": {},
   "source": [
    "Find Negative number"
   ]
  },
  {
   "cell_type": "code",
   "execution_count": 1,
   "metadata": {},
   "outputs": [
    {
     "name": "stdout",
     "output_type": "stream",
     "text": [
      "-4\n",
      "-4\n"
     ]
    }
   ],
   "source": [
    "\n",
    "# finding negative number in for loop\n",
    "\n",
    "n = [1 , -1 , 3, 4, -8 , 6 , -4, 5 , 9, -7, 8]\n",
    "pos = 0\n",
    "\n",
    "for num in n:\n",
    "    if num <= 0:\n",
    "        pos -= 1\n",
    "print(pos)\n",
    "\n",
    "\n",
    "# with while loop\n",
    "\n",
    "n = [1, -1, 3, 4, -8, 6, -4, 5, 9, -7, 8]\n",
    "pos = 0\n",
    "i = 0\n",
    "\n",
    "while i < len(n):\n",
    "    if n[i] <= 0:\n",
    "        pos -= 1\n",
    "    i += 1\n",
    "print(pos)"
   ]
  }
 ],
 "metadata": {
  "kernelspec": {
   "display_name": "Python 3",
   "language": "python",
   "name": "python3"
  },
  "language_info": {
   "codemirror_mode": {
    "name": "ipython",
    "version": 3
   },
   "file_extension": ".py",
   "mimetype": "text/x-python",
   "name": "python",
   "nbconvert_exporter": "python",
   "pygments_lexer": "ipython3",
   "version": "3.12.4"
  }
 },
 "nbformat": 4,
 "nbformat_minor": 2
}
