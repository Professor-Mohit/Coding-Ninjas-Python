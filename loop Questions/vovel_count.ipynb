{
 "cells": [
  {
   "cell_type": "markdown",
   "metadata": {},
   "source": [
    "Count Vowels\n",
    "Write a program that uses a while loop to find no. of vowels in given input string of lowercase latin letters.\n",
    "\n",
    "Note: Vowels in lowercase latin letters are: a, e, i, o and u."
   ]
  },
  {
   "cell_type": "code",
   "execution_count": 8,
   "metadata": {},
   "outputs": [
    {
     "name": "stdout",
     "output_type": "stream",
     "text": [
      "Numbers of vovle in word is : 2\n"
     ]
    }
   ],
   "source": [
    "str = input()\n",
    "ans = 0\n",
    "for i in range(len(str)):\n",
    "    v = str[i]\n",
    "    if v == 'a' or v == 'e' or v == 'i' or v == 'o' or v == 'u':\n",
    "        ans += 1\n",
    "    i += 1\n",
    "print(\"Numbers of vovle in word is :\" , ans)"
   ]
  }
 ],
 "metadata": {
  "kernelspec": {
   "display_name": "Python 3",
   "language": "python",
   "name": "python3"
  },
  "language_info": {
   "codemirror_mode": {
    "name": "ipython",
    "version": 3
   },
   "file_extension": ".py",
   "mimetype": "text/x-python",
   "name": "python",
   "nbconvert_exporter": "python",
   "pygments_lexer": "ipython3",
   "version": "3.12.4"
  }
 },
 "nbformat": 4,
 "nbformat_minor": 2
}
