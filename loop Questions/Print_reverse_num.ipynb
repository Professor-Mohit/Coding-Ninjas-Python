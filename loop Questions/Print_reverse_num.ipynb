{
 "cells": [
  {
   "cell_type": "markdown",
   "metadata": {},
   "source": [
    "Print individual revesre number\n"
   ]
  },
  {
   "cell_type": "code",
   "execution_count": 7,
   "metadata": {},
   "outputs": [
    {
     "name": "stdout",
     "output_type": "stream",
     "text": [
      "6 4 3 2 1 64321\n"
     ]
    }
   ],
   "source": [
    "n = int(input())\n",
    "\n",
    "while n > 0:\n",
    "    rem = n % 10\n",
    "    print(rem, end = \" \")\n",
    "    n //= 10\n",
    "\n",
    "\n",
    "\n",
    "# Write a program to generate the reverse of a given number N. Print the corresponding reverse number.\n",
    "\n",
    "# Note : If a number has trailing zeros, then its reverse will not include them. For e.g., reverse of 10400 will be 401 instead of 00401.\n",
    "\n",
    "n = input()\n",
    "l = len(n)-1\n",
    "a = \"\"\n",
    "while l >= 0:\n",
    "    a += n[l]\n",
    "    l -= 1\n",
    "\n",
    "print(int(a))\n",
    "\n"
   ]
  },
  {
   "cell_type": "markdown",
   "metadata": {},
   "source": [
    "Yeh code ek number ko reverse karne ke liye hai. Yeh kaise kaam karta hai, main aapko batata hoon:\n",
    "\n",
    "n = int(input()): Yeh line user se ek number input leti hai aur use n naam ke variable mein store karti hai.\n",
    "\n",
    "while n > 0:: Yeh ek loop hai jo tab tak chalta hai jab tak n 0 se bada hai.\n",
    "\n",
    "rem = n % 10: Yeh line n ko 10 se divide karti hai aur remainder ko rem naam ke variable mein store karti hai. Yeh remainder hamaare number ka last digit hai.\n",
    "\n",
    "print(rem, end = \" \"): Yeh line rem ko print karti hai, lekin end = \" \" ke kaaran yeh next line mein nahi jaata. Yeh sabhi digits ko ek hi line mein print karta hai.\n",
    "\n",
    "n //= 10: Yeh line n ko 10 se divide karti hai aur quotient ko n mein store karti hai. Yeh hamaare number ka last digit remove kar deta hai.\n",
    "\n",
    "Yeh process tab tak chalta hai jab tak n 0 nahi ho jata. Jab n 0 ho jata hai, loop band ho jata hai aur program khatam ho jata hai.\n",
    "\n",
    "Udaharan ke liye, agar user 123 input karta hai, toh program yeh karta hai:\n",
    "\n",
    "n = 123\n",
    "rem = 123 % 10 = 3, print 3\n",
    "\n",
    "n = 123 // 10 = 12\n",
    "\n",
    "rem = 12 % 10 = 2, print 2\n",
    "\n",
    "n = 12 // 10 = 1\n",
    "\n",
    "rem = 1 % 10 = 1, print 1\n",
    "\n",
    "n = 1 // 10 = 0, loop band ho jata hai\n",
    "\n",
    "Isliye, program 3 2 1 print karta hai, jo 123 ka reverse hai.\n"
   ]
  }
 ],
 "metadata": {
  "kernelspec": {
   "display_name": "Python 3",
   "language": "python",
   "name": "python3"
  },
  "language_info": {
   "codemirror_mode": {
    "name": "ipython",
    "version": 3
   },
   "file_extension": ".py",
   "mimetype": "text/x-python",
   "name": "python",
   "nbconvert_exporter": "python",
   "pygments_lexer": "ipython3",
   "version": "3.12.4"
  }
 },
 "nbformat": 4,
 "nbformat_minor": 2
}
