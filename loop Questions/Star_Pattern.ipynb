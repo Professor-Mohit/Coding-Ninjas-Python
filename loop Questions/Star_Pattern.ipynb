{
 "cells": [
  {
   "cell_type": "markdown",
   "metadata": {},
   "source": [
    "Program for Printing star."
   ]
  },
  {
   "cell_type": "code",
   "execution_count": null,
   "metadata": {},
   "outputs": [],
   "source": [
    "n = int(input())\n",
    "for i in range (1, n+1):\n",
    "    print(\" \" * (n-1), end =\"\")\n",
    "    print(\"*\" * (2*i-1), end =\"\")\n",
    "    print(\"\")\n",
    "\n",
    "\n",
    "\n",
    "\n",
    "\n",
    "    # This code is copy from code with harry PS- 7-7\n",
    "    # I can't understand the code.\n",
    "    # also this code is not working properly."
   ]
  }
 ],
 "metadata": {
  "kernelspec": {
   "display_name": "Python 3",
   "language": "python",
   "name": "python3"
  },
  "language_info": {
   "codemirror_mode": {
    "name": "ipython",
    "version": 3
   },
   "file_extension": ".py",
   "mimetype": "text/x-python",
   "name": "python",
   "nbconvert_exporter": "python",
   "pygments_lexer": "ipython3",
   "version": "3.12.4"
  }
 },
 "nbformat": 4,
 "nbformat_minor": 2
}
