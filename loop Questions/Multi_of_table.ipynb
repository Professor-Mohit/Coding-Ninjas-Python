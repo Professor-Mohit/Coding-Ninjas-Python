{
 "cells": [
  {
   "cell_type": "markdown",
   "metadata": {},
   "source": [
    "Write a program to print multiplication of table of a given number using for loop.\n"
   ]
  },
  {
   "cell_type": "code",
   "execution_count": null,
   "metadata": {},
   "outputs": [],
   "source": [
    "\n",
    "\n",
    "#Printing the multiple of Table with While loop\n",
    "n = int(input())\n",
    "i = 1\n",
    "while i <= 10:\n",
    "    print(i * n)\n",
    "    i += 1\n",
    "\n",
    "\n",
    " \n",
    "#Printing the multiple of Table with for loop\n",
    "\n",
    "n = int(input())\n",
    "\n",
    "for i in range (1, 11):\n",
    "    print(f\"{n} X {i} = {n * i}\") \n",
    "\n",
    "\n",
    "# Remove table of 5th term\n",
    "\n",
    "n = int(input())\n",
    "\n",
    "for i in range (1, 11):\n",
    "    if i == 5:\n",
    "        continue\n",
    "\n",
    "    print(f\"{n} X {i} = {n * i}\") "
   ]
  }
 ],
 "metadata": {
  "kernelspec": {
   "display_name": "Python 3",
   "language": "python",
   "name": "python3"
  },
  "language_info": {
   "codemirror_mode": {
    "name": "ipython",
    "version": 3
   },
   "file_extension": ".py",
   "mimetype": "text/x-python",
   "name": "python",
   "nbconvert_exporter": "python",
   "pygments_lexer": "ipython3",
   "version": "3.12.4"
  }
 },
 "nbformat": 4,
 "nbformat_minor": 2
}
