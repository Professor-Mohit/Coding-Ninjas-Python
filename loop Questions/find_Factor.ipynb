{
 "cells": [
  {
   "cell_type": "markdown",
   "metadata": {},
   "source": [
    "Find a factor of n Integer"
   ]
  },
  {
   "cell_type": "code",
   "execution_count": null,
   "metadata": {},
   "outputs": [],
   "source": [
    "\n",
    "# with for Loop\n",
    "\n",
    "n = int(input())\n",
    "fact = True\n",
    "\n",
    "for i in range(2, n):\n",
    "    if n % i == 0:\n",
    "        print(i,  end = \",\" )\n",
    "        fact = False\n",
    "if fact:\n",
    "    print(-1)\n",
    "\n",
    "\n",
    "# with while loop\n",
    "\n",
    "\n",
    "n = int(input())\n",
    "fact = True\n",
    "num = 2\n",
    "while num <= n:\n",
    "    if n % num == 0:\n",
    "        print(num, end = \" \" )\n",
    "        fact = False\n",
    "    num += 1\n",
    "if fact:\n",
    "    print(-1)\n",
    "\n",
    "\n",
    "\n",
    "## using of Recursion not code-ed by me\n",
    "\n",
    "import sys\n",
    "def factors(a,b,c):\n",
    "    sys.setrecursionlimit(100000)\n",
    "    if b == a:\n",
    "        return c\n",
    "    if a%b == 0:\n",
    "        print(b,end=\" \")\n",
    "        c = False\n",
    "    return factors(a,b+1,c)\n",
    "\n",
    "x = int(input())\n",
    "f = True\n",
    "if (x<=0):\n",
    "    print (-1)\n",
    "else:\n",
    "    if factors(x,2,f):\n",
    "        print(-1)\n",
    "\n"
   ]
  }
 ],
 "metadata": {
  "kernelspec": {
   "display_name": "Python 3",
   "language": "python",
   "name": "python3"
  },
  "language_info": {
   "codemirror_mode": {
    "name": "ipython",
    "version": 3
   },
   "file_extension": ".py",
   "mimetype": "text/x-python",
   "name": "python",
   "nbconvert_exporter": "python",
   "pygments_lexer": "ipython3",
   "version": "3.12.4"
  }
 },
 "nbformat": 4,
 "nbformat_minor": 2
}
