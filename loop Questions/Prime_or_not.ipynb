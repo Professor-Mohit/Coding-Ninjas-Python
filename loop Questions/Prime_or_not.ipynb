{
 "cells": [
  {
   "cell_type": "markdown",
   "metadata": {},
   "source": [
    "Write a program to find whether a given number is prime of not."
   ]
  },
  {
   "cell_type": "code",
   "execution_count": 5,
   "metadata": {},
   "outputs": [
    {
     "name": "stdout",
     "output_type": "stream",
     "text": [
      "4 was a composite number\n",
      "end\n"
     ]
    }
   ],
   "source": [
    "# n = int(input())\n",
    "\n",
    "# for i in range (2, n):\n",
    "#     if (n % i) == 0:\n",
    "#         print(\"Not a prime\")\n",
    "#         break\n",
    "# else:\n",
    "#     print(\"Prime num\")\n",
    "\n",
    "\n",
    "\n",
    "\n",
    "N = int(input())\n",
    "i = 2 # [2, N-1]\n",
    "isPrime = True\n",
    "while i <= N-1:\n",
    "    if N % i == 0:\n",
    "        # composite number detected\n",
    "        isPrime = False # marking it not prime\n",
    "        break\n",
    "\n",
    "    i += 1\n",
    "\n",
    "if isPrime:\n",
    "    print(f\"{N} was a prime number\")\n",
    "else:\n",
    "    print(f\"{N} was a composite number\")\n",
    "print(\"end\")\n",
    "\n"
   ]
  }
 ],
 "metadata": {
  "kernelspec": {
   "display_name": "Python 3",
   "language": "python",
   "name": "python3"
  },
  "language_info": {
   "codemirror_mode": {
    "name": "ipython",
    "version": 3
   },
   "file_extension": ".py",
   "mimetype": "text/x-python",
   "name": "python",
   "nbconvert_exporter": "python",
   "pygments_lexer": "ipython3",
   "version": "3.12.4"
  }
 },
 "nbformat": 4,
 "nbformat_minor": 2
}
