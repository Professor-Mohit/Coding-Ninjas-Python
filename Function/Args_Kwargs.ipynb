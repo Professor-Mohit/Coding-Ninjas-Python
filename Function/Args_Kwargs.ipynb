{
 "cells": [
  {
   "cell_type": "code",
   "execution_count": 2,
   "metadata": {},
   "outputs": [
    {
     "name": "stdout",
     "output_type": "stream",
     "text": [
      "19\n",
      "{'name': 'Mohit', 'company': 'Microsoft', 'age': 20}\n"
     ]
    }
   ],
   "source": [
    "# Args\n",
    "\n",
    "def sum_of_numbers(*numbers):\n",
    "    print(sum(numbers))\n",
    "\n",
    "sum_of_numbers(10,3,6)\n",
    "\n",
    "# kwargs\n",
    "\n",
    "def print_details(**details):\n",
    "    print(details)\n",
    "\n",
    "print_details(name=\"Mohit\",company=\"Microsoft\", age=20)\n"
   ]
  }
 ],
 "metadata": {
  "kernelspec": {
   "display_name": "Python 3",
   "language": "python",
   "name": "python3"
  },
  "language_info": {
   "codemirror_mode": {
    "name": "ipython",
    "version": 3
   },
   "file_extension": ".py",
   "mimetype": "text/x-python",
   "name": "python",
   "nbconvert_exporter": "python",
   "pygments_lexer": "ipython3",
   "version": "3.12.4"
  }
 },
 "nbformat": 4,
 "nbformat_minor": 2
}
