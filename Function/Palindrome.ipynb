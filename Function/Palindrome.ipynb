{
 "cells": [
  {
   "cell_type": "code",
   "execution_count": 18,
   "metadata": {},
   "outputs": [
    {
     "data": {
      "text/plain": [
       "True"
      ]
     },
     "execution_count": 18,
     "metadata": {},
     "output_type": "execute_result"
    }
   ],
   "source": [
    "def reverse_of_number(num):\n",
    "    res = 0\n",
    "    while num > 0:\n",
    "        x = num % 10 # last digit\n",
    "        res = res * 10 + x\n",
    "        num //= 10\n",
    "    return res\n",
    "\n",
    "def check_palindrome(num):\n",
    "    reverse = reverse_of_number(num)\n",
    "    return reverse == num\n",
    "\n",
    "check_palindrome(45654)\n"
   ]
  },
  {
   "cell_type": "code",
   "execution_count": 1,
   "metadata": {},
   "outputs": [],
   "source": [
    "# p = \"syanays\"\n",
    "\n",
    "# for i in range(len(p) // 2):\n",
    "#     if p[i] != p[-abs(i)-1]:\n",
    "#         print(\"Not a palindrome\")\n",
    "#         break\n",
    "# else:\n",
    "#     print(\"Palindrome\")\n",
    "\n"
   ]
  }
 ],
 "metadata": {
  "kernelspec": {
   "display_name": "Python 3",
   "language": "python",
   "name": "python3"
  },
  "language_info": {
   "codemirror_mode": {
    "name": "ipython",
    "version": 3
   },
   "file_extension": ".py",
   "mimetype": "text/x-python",
   "name": "python",
   "nbconvert_exporter": "python",
   "pygments_lexer": "ipython3",
   "version": "3.12.4"
  }
 },
 "nbformat": 4,
 "nbformat_minor": 2
}
