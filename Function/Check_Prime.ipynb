{
 "cells": [
  {
   "cell_type": "markdown",
   "metadata": {},
   "source": [
    "Checking Prime Number With function"
   ]
  },
  {
   "cell_type": "code",
   "execution_count": 20,
   "metadata": {},
   "outputs": [
    {
     "name": "stdout",
     "output_type": "stream",
     "text": [
      "Not a prime number\n",
      "It is not a prime\n"
     ]
    }
   ],
   "source": [
    "def check_Prime(num):\n",
    "    for div in range(2, num):\n",
    "          if num % div == 0:\n",
    "            # we are sure that input num is not prime\n",
    "            return False\n",
    "        \n",
    "    # if the loop completed and we never found a number to completely divide num\n",
    "    return True\n",
    "\n",
    "result = check_Prime(25)\n",
    "if (result == True):\n",
    "    print(\"Prime number\")\n",
    "else:\n",
    "    print(\"Not a prime number\")\n",
    "\n"
   ]
  }
 ],
 "metadata": {
  "kernelspec": {
   "display_name": "Python 3",
   "language": "python",
   "name": "python3"
  },
  "language_info": {
   "codemirror_mode": {
    "name": "ipython",
    "version": 3
   },
   "file_extension": ".py",
   "mimetype": "text/x-python",
   "name": "python",
   "nbconvert_exporter": "python",
   "pygments_lexer": "ipython3",
   "version": "3.12.4"
  }
 },
 "nbformat": 4,
 "nbformat_minor": 2
}
