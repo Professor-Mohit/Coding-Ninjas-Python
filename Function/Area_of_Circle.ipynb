{
 "cells": [
  {
   "cell_type": "markdown",
   "metadata": {},
   "source": [
    "Write a program that calculates and returns the area of a circle given its radius.\n",
    "\n",
    "\n",
    "\n",
    "Note :\n",
    "1. You don’t need to print anything. Just implement the given function.\n",
    "2. Area of a circle = π * r * r, where π (pi) is 3.14159 and r is the radius of the circle."
   ]
  },
  {
   "cell_type": "code",
   "execution_count": 2,
   "metadata": {},
   "outputs": [
    {
     "name": "stdout",
     "output_type": "stream",
     "text": [
      "\n"
     ]
    }
   ],
   "source": [
    "def Area_of_Circle(radius):\n",
    "    return 3.14 * radius ** 2"
   ]
  }
 ],
 "metadata": {
  "kernelspec": {
   "display_name": "Python 3",
   "language": "python",
   "name": "python3"
  },
  "language_info": {
   "codemirror_mode": {
    "name": "ipython",
    "version": 3
   },
   "file_extension": ".py",
   "mimetype": "text/x-python",
   "name": "python",
   "nbconvert_exporter": "python",
   "pygments_lexer": "ipython3",
   "version": "3.12.4"
  }
 },
 "nbformat": 4,
 "nbformat_minor": 2
}
