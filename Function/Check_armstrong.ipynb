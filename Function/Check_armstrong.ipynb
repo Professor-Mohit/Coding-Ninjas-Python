{
 "cells": [
  {
   "cell_type": "code",
   "execution_count": 8,
   "metadata": {},
   "outputs": [
    {
     "name": "stdout",
     "output_type": "stream",
     "text": [
      "153 is an Armstrong number.\n"
     ]
    }
   ],
   "source": [
    "\n",
    "# def count_digits(n):\n",
    "#     result = 0\n",
    "#     while n > 0:\n",
    "#         result += 1 # we have one more digit\n",
    "#         n = n // 10\n",
    "\n",
    "#     return result\n",
    "\n",
    "\n",
    "# def check_armstrong(num):\n",
    "#     d = count_digits(num) # gives us count of the digits\n",
    "#     sum_of_digit_power = 0\n",
    "#     temp = num # we will temporarily store num\n",
    "#     while num > 0:\n",
    "#         x = num % 10 # x is the last digit of current value of num\n",
    "#         sum_of_digit_power += x**d\n",
    "#         num //= 10\n",
    "\n",
    "#     return sum_of_digit_power == temp\n",
    "\n",
    "# check_armstrong(153)\n",
    "\n",
    "\n",
    "def is_armstrong_number(num):\n",
    "    # Convert number to string to easily iterate over digits\n",
    "    digits = str(num)\n",
    "    # Number of digits\n",
    "    num_digits = len(digits)\n",
    "    # Compute the sum of each digit raised to the power of num_digits\n",
    "    sum_of_powers = sum(int(digit) ** num_digits for digit in digits)\n",
    "    # Check if the sum is equal to the original number\n",
    "    return sum_of_powers == num\n",
    "\n",
    "# Test the function\n",
    "number = 153\n",
    "if is_armstrong_number(number):\n",
    "    print(f\"{number} is an Armstrong number.\")\n",
    "else:\n",
    "    print(f\"{number} is not an Armstrong number.\")\n",
    "\n"
   ]
  }
 ],
 "metadata": {
  "kernelspec": {
   "display_name": "Python 3",
   "language": "python",
   "name": "python3"
  },
  "language_info": {
   "codemirror_mode": {
    "name": "ipython",
    "version": 3
   },
   "file_extension": ".py",
   "mimetype": "text/x-python",
   "name": "python",
   "nbconvert_exporter": "python",
   "pygments_lexer": "ipython3",
   "version": "3.12.4"
  }
 },
 "nbformat": 4,
 "nbformat_minor": 2
}
