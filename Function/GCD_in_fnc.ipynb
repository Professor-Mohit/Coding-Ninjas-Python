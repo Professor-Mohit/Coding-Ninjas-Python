{
 "cells": [
  {
   "cell_type": "markdown",
   "metadata": {},
   "source": [
    "Given two numbers, x, and y, calculate and Return their GCD.\n",
    "\n",
    "GCD stands for \"Greatest Common Divisor.\" It refers to the largest positive integer that divides two or more numbers without leaving a remainder. "
   ]
  },
  {
   "cell_type": "code",
   "execution_count": null,
   "metadata": {},
   "outputs": [],
   "source": [
    "def find_GCD(a, b):\n",
    "    gcd = 1\n",
    "    for i in range(1, min(a,b) + 1):\n",
    "        if a % i == 0 and b % i == 0:\n",
    "            gcd = i\n",
    "    return gcd "
   ]
  }
 ],
 "metadata": {
  "language_info": {
   "name": "python"
  }
 },
 "nbformat": 4,
 "nbformat_minor": 2
}
